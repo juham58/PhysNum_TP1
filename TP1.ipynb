{
 "cells": [
  {
   "cell_type": "markdown",
   "metadata": {},
   "source": [
    "## Question 1\n",
    "\n",
    "On pourra exprimer $\\gamma$ en fonction de $T_e^{max}$ en isolant dans l'équation de $T_e^{max}$:\n",
    "$$\\begin{align*}\n",
    "    T_e^{max} &= \\frac{2 m_e c^2\\left( \\gamma^2-1 \\right)}{1+2\\gamma\\frac{m_e}{m_p}+\\left( \\frac{m_e}{m_p} \\right)^2}\\\\\n",
    "    T_e^{max}\\left( 1+2\\gamma\\frac{m_e}{m_p}+\\left( \\frac{m_e}{m_p} \\right)^2 \\right) &= 2 m_e c^2\\left( \\gamma^2-1 \\right)\\\\\n",
    "    0 &= 2T_e^{max}\\gamma \\frac{m_e}{m_p} - 2m_ec^2\\gamma^2 + T_e^{max}\\left[ 1 + \\left(  \\frac{m_e}{m_p} \\right)^2 \\right] + 2m_e c^2\\\\\n",
    "\\end{align*}$$\n",
    "On a donc un polynôme de degré 2 dans lequel on pourra isoler $\\gamma$ à l'aide de la formule quadratique et prendre seulement la valeur positive:\n",
    "$$\\begin{align*}\n",
    "    \\gamma &= \n",
    "\\end{align*}$$"
   ]
  },
  {
   "cell_type": "code",
   "execution_count": null,
   "metadata": {},
   "outputs": [],
   "source": []
  },
  {
   "cell_type": "code",
   "execution_count": null,
   "metadata": {},
   "outputs": [],
   "source": []
  }
 ],
 "metadata": {
  "kernelspec": {
   "display_name": "Python 3",
   "language": "python",
   "name": "python3"
  },
  "language_info": {
   "codemirror_mode": {
    "name": "ipython",
    "version": 3
   },
   "file_extension": ".py",
   "mimetype": "text/x-python",
   "name": "python",
   "nbconvert_exporter": "python",
   "pygments_lexer": "ipython3",
   "version": "3.7.1"
  }
 },
 "nbformat": 4,
 "nbformat_minor": 2
}
