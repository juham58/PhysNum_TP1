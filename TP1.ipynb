{
 "cells": [
  {
   "cell_type": "markdown",
   "metadata": {},
   "source": [
    "## Question 1\n",
    "\n",
    "Selon la recherche, la gamme d'énergie cinétique des protons en protonthérapie varie entre 30 MeV et 250 MeV. La plus grande énergie utilisée est 250 MeV. Pour exprimer $\\gamma (\\beta)$ et $\\gamma (T)$, nous devons faire de l'algèbre simple avec les équations de la dynamique des particules:\n",
    "\n",
<<<<<<< Updated upstream
    "$$ T = (\\gamma - 1)mc^2 \\\\ \\gamma(T) = \\frac{T}{mc^2} + 1$$\n",
    "\n",
    "Pour $\\gamma (\\beta)$;\n",
    "$$ \\gamma = \\sqrt{\\frac{1}{1 - \\beta^2}}$$\n",
    "\n"
   ]
=======
    "$$\n",
    "\\begin{align*}\n",
    "    T &= (\\gamma - 1)m_pc^2 \\\\ \n",
    "    \\gamma(T) &= \\frac{T}{m_pc^2} + 1\n",
    "\\end{align*}\n",
    "$$\n",
    "Où $m_p$ sera la masse du proton puisque c'est la vitesse des protons que l'ont étudiera en protonthérapie.\n",
    "\n",
    "Pour $\\gamma (\\beta)$, nous savons que $\\beta \\equiv \\frac{v}{c}$;\n",
    "$$\\gamma = \\sqrt{\\frac{1}{1 - \\beta^2}}$$\n",
    "\n",
    "De plus, on sait que:\n",
    "$$\n",
    "\\begin{align*}\n",
    "    \\beta = \\sqrt{\\frac{1}{1 - \\gamma^2}}\n",
    "\\end{align*}\n",
    "$$\n"
   ]
  },
  {
   "cell_type": "markdown",
   "metadata": {},
   "source": [
    "## Question 2\n",
    "\n",
    "* Trouver comment exprimer la densité électronique $n_e$ en fonction de la composition atomique (Z?) et de $\\rho$\n",
    "* Calculer les densités électroniques de l'eau et de l'os cortical?\n",
    "* Tracer les courbes de stopping power à partir de PSTAR\n",
    "\n",
    "Par définition, on sait que la densité électronique est définie par le nombre d'électrons par gramme divisé par le volume:\n",
    "$$\n",
    "\\begin{align*}\n",
    "    n_e &= \\frac{N}{V}\n",
    "\\end{align*}\n",
    "$$\n",
    "On peut développer le tout par les définitions usuelles.\n",
    "$$\n",
    "\\begin{align*}\n",
    "    n_e &= \\frac{N}{V} = \\frac{Z N_{atomes}}{\\frac{m_{atomes}}{\\rho}} = \\frac{Z N_{atomes}\\rho}{m_{atomes}}\n",
    "\\end{align*}\n",
    "$$\n",
    "\n"
   ]
  },
  {
   "cell_type": "code",
   "execution_count": null,
   "metadata": {},
   "outputs": [],
   "source": []
  },
  {
   "cell_type": "markdown",
   "metadata": {},
   "source": [
    "## Question 3\n",
    "\n",
    "On doit s'assurer de l'homogénéité dimensionnelle dans l'équation de la porté dans l'approximation CSDA:\n",
    "$$\\begin{align*}\n",
    "    R_{CSDA} &= \\int_0^{T_i} \\frac{\\text{d}T'}{\\frac{S_{col}}{\\rho}}\\\\\n",
    "    R_{CSDA}\\left[ \\text{g}/\\text{cm}^2 \\right] &= \\int_0^{T_i} \\frac{\\text{d}T'\\left[ \\text{MeV} \\right]}{\\frac{S_{col}}{\\rho}\\left[\\text{MeV}/\\text{g}/\\text{cm}^2\\right]}\\\\\n",
    "    R_{CSDA}\\left[ \\text{g}/\\text{cm}^2 \\right] &= \\int_0^{T_i} \\frac{\\text{d}T'}{\\frac{S_{col}}{\\rho}}\\left[\\text{g}/\\text{cm}^2 \\right]\\\\\n",
    "\\end{align*}\n",
    "$$\n",
    "\n",
    "Qui est bien ce qu'on devait vérifier."
   ]
  },
  {
   "cell_type": "markdown",
   "metadata": {},
   "source": [
    "## Question 4\n",
    "* Utiliser PSTAR pour montrer que la courbe $\\textit{Electronic Stopping Power}$ (Pouvoir d'arrêt collisionnel dans notre cas) est égale (ou presque) à la courbe $\\textit{Total Stopping Power}$ du PSTAR, dans le range de 70 à 250 MeV.\n",
    "* En bref, tu récoltes PSTAR pi c'est tout."
   ]
  },
  {
   "cell_type": "markdown",
   "metadata": {},
   "source": [
    "## Question 5\n",
    "\n",
    "* L'intégrale de $\\frac{1}{S_{col}}$ n'est probablement pas analytique (à vérifier). Mais déjà là, c'est une raison décisive d'utiliser une méthode numérique. En fait, il n'y aura pas d'autres manière de résoudre.\n",
    "* En bref, la formule est fucktrash, donc c'est sûr que c'est pas analytique, mais faudrait quand même une manière de le montrer."
   ]
  },
  {
   "cell_type": "markdown",
   "metadata": {},
   "source": [
    "## Question 6\n",
    "\n",
    "* Écrire une méthode de résolution avec la méthode des trapèzes (easy)\n",
    "* La rendre adaptative (faire en sorte qu'elle ajuste elle-même le nombre de tranches (N)) (hard)\n",
    "\n",
    "Il sera premièrement extrêmement pertinent d'écrire nos fonctions sous forme _Python_:"
   ]
  },
  {
   "cell_type": "code",
   "execution_count": 5,
   "metadata": {},
   "outputs": [],
   "source": [
    "from scipy import constants\n",
    "\n",
    "#définition des constantes nécessaires\n",
    "pi = constants.pi\n",
    "r_e = 2.8179403262e-15\n",
    "m_e = constants.electron_mass\n",
    "c = constants.speed_of_light\n",
    "m_p = constants.proton_mass\n",
    "I_eau = 0.075 #énergie moyenne d'excitation de l'eau (de PSTAR) en MeV\n",
    "I_os = 0.1064 #énergie moyenne d'excitation de l'os cortical (de PSTAR) en MeV\n",
    "\n",
    "def n_e(a, b, c):\n",
    "    return \"la densité électronique\" #densité électronique trouvée numéro 2\n",
    "\n",
    "def beta(gamma):\n",
    "    return np.sqrt(1/(1-gamma**2))\n",
    "\n",
    "def gamma(T):\n",
    "    return T/(m_p*c**2) + 1\n",
    "\n",
    "def Te_max(T):\n",
    "    return (2*m_e*c**2*(gamma(T)**2-1))/(1+2*gamma(T)*(m_e/m_p)+(m_e/m_p)**2)\n",
    "\n",
    "def S_col(T, I):\n",
    "    return 2*pi*r_e**2*m_e*c**2*n_e(a, b ,c)*(1/beta(gamma(T))**2)*(np.ln( (2*m_e*c**2*beta(gamma(T))**2*gamma(T)**2*Te_max(T))/(I)**2 )-2*beta(gamma(T))**2)\n",
    "\n",
    "#J'ai défini les fonctions qu'on aura besoin, il reste juste à faire le gros de la job"
   ]
  },
  {
   "cell_type": "markdown",
   "metadata": {},
   "source": [
    "## Question 7"
   ]
  },
  {
   "cell_type": "markdown",
   "metadata": {},
   "source": [
    "## Question 8"
   ]
  },
  {
   "cell_type": "markdown",
   "metadata": {},
   "source": [
    "## Question 9"
   ]
  },
  {
   "cell_type": "markdown",
   "metadata": {},
   "source": [
    "## Question 10"
   ]
  },
  {
   "cell_type": "markdown",
   "metadata": {},
   "source": [
    "## Question 11"
   ]
  },
  {
   "cell_type": "markdown",
   "metadata": {},
   "source": [
    "## Question 12"
   ]
  },
  {
   "cell_type": "markdown",
   "metadata": {},
   "source": [
    "## Question 13"
   ]
  },
  {
   "cell_type": "markdown",
   "metadata": {},
   "source": [
    "## Question 14"
   ]
>>>>>>> Stashed changes
  }
 ],
 "metadata": {
  "kernelspec": {
   "display_name": "Python 3",
   "language": "python",
   "name": "python3"
  },
  "language_info": {
   "codemirror_mode": {
    "name": "ipython",
    "version": 3
   },
   "file_extension": ".py",
   "mimetype": "text/x-python",
   "name": "python",
   "nbconvert_exporter": "python",
   "pygments_lexer": "ipython3",
   "version": "3.7.1"
  }
 },
 "nbformat": 4,
 "nbformat_minor": 4
}
