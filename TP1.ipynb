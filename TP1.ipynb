{
 "cells": [
  {
   "cell_type": "code",
   "execution_count": null,
   "metadata": {},
   "outputs": [],
   "source": [
    "import matplotlib.pyplot as plt\n",
    "import numpy as np\n",
    "from scipy import constants\n",
    "\n",
    "%matplotlib inline\n",
    "\n",
    "\n",
    "#définition des constantes nécessaires\n",
    "pi = constants.pi #pi\n",
    "r_e = 2.8179403262e-13 #rayon classique de l'électron en cm\n",
    "m_e = constants.physical_constants[\"electron mass energy equivalent in MeV\"][0] #Masse de l'électron en MeV (Le c^2 est inclu dans la valeur de la masse)\n",
    "m_p = constants.physical_constants[\"proton mass energy equivalent in MeV\"][0] #Masse du proton en MeV (Le c^2 est inclu dans la valeur de la masse)\n",
    "rho_eau = 1 #densité de l'eau (de PSTAR) en g/cm^3\n",
    "rho_os = 1.85 #densité de l'os cortical (de PSTAR) en g/cm^3\n",
    "I_eau = 0.000075 #énergie moyenne d'excitation de l'eau (de PSTAR) en MeV\n",
    "I_os = 0.0001064 #énergie moyenne d'excitation de l'os cortical (de PSTAR) en MeV"
   ]
  },
  {
   "cell_type": "markdown",
   "metadata": {},
   "source": [
    "## Question 1\n",
    "\n",
    "Selon la recherche, la gamme d'énergie cinétique des protons en protonthérapie varie entre 70 MeV et 250 MeV. La plus grande énergie utilisée est 250 MeV. Pour exprimer $\\gamma (\\beta)$ et $\\gamma (T)$, nous devons faire de l'algèbre simple avec les équations de la dynamique des particules:\n",
    "\n",
    "$$\n",
    "\\begin{align*}\n",
    "    T &= (\\gamma - 1)m_pc^2 \\\\ \n",
    "    \\gamma(T) &= \\frac{T}{m_pc^2} + 1\n",
    "\\end{align*}\n",
    "$$\n",
    "Où $m_p$ sera la masse du proton puisque c'est la vitesse des protons que l'ont étudiera en protonthérapie.\n",
    "\n",
    "Pour $\\gamma (\\beta)$, nous savons que $\\beta \\equiv \\frac{v}{c}$;\n",
    "$$\\gamma = \\sqrt{\\frac{1}{1 - \\beta^2}}$$\n",
    "\n",
    "De plus, on sait que:\n",
    "$$\n",
    "\\begin{align*}\n",
    "    \\beta = \\sqrt{1-\\frac{1}{\\gamma^2}}\n",
    "\\end{align*}\n",
    "$$\n"
   ]
  },
  {
   "cell_type": "markdown",
   "metadata": {},
   "source": [
    "## Question 2\n",
    "\n",
    "* Trouver comment exprimer la densité électronique $n_e$ en fonction de la composition atomique (Z?) et de $\\rho$\n",
    "* Calculer les densités électroniques de l'eau et de l'os cortical?\n",
    "* Tracer les courbes de stopping power à partir de PSTAR\n",
    "\n",
    "Par définition, on sait que la densité électronique est définie par le nombre d'électrons par gramme divisé par le volume:\n",
    "$$\n",
    "\\begin{align*}\n",
    "    n_e &= \\frac{N}{V}\n",
    "\\end{align*}\n",
    "$$\n",
    "On peut développer le tout par les définitions usuelles.\n",
    "$$\n",
    "\\begin{align*}\n",
    "    n_e &= \\frac{N}{V} = \\frac{Z N_{atomes}}{\\frac{m_{atomes}}{\\rho}} = \\frac{Z N_{atomes}\\rho}{m_{atomes}}\n",
    "\\end{align*}\n",
    "$$\n",
    "\n"
   ]
  },
  {
   "cell_type": "code",
   "execution_count": null,
   "metadata": {},
   "outputs": [],
   "source": [
    "#La classe Milieu accepte comme arguments la densité volumique (rho), la fraction de chaque éléments du milieu en ordre,\n",
    "#le numéro atomique (Z) dans le même ordre, et la masse molaire (mmol) aussi en ordre. \n",
    "class Milieu:\n",
    "    def __init__(self, rho, frac = [], Z = [], mmol = []):\n",
    "        self.rho = rho\n",
    "        self.frac = frac\n",
    "        self.Z = Z\n",
    "        self.mmol = mmol\n",
    "\n",
    "#La fonction edensite donne la densité électronique du milieu.\n",
    "    def edensite(self):\n",
    "        n = 0\n",
    "        for i in range(0, len(self.mmol)):\n",
    "            n += (self.rho*self.frac[i]*self.Z[i]*(6.022*10**23))/self.mmol[i]\n",
    "        return n\n",
    "        \n",
    "        \n",
    "frac_os = [0.047234, 0.144330, 0.041990, 0.446096, 0.002200, 0.104970, 0.003150, 0.209930, 0.000100]\n",
    "Z_os = [1,6,7,8,12,15,16,20,30]\n",
    "mmol_os = [1.00784, 12.0107, 14.0067, 15.999, 24.305, 30.9738, 32.065, 40.078, 65.38]\n",
    "\n",
    "os = Milieu(rho_os, frac = frac_os, Z=Z_os, mmol = mmol_os)\n",
    "eau = Milieu(rho_eau, frac = [0.111894, 0.888106], Z = [1,8], mmol = [1.00784 ,15.999])\n",
    "\n",
    "ne_os = os.edensite()\n",
    "ne_eau = eau.edensite()\n",
    "print(ne_os)\n",
    "print(ne_eau)\n",
    "\n",
    "def gamma(T):\n",
    "    return (T/m_p) + 1\n",
    "\n",
    "def beta(T):\n",
    "    return np.sqrt(1-(1/(gamma(T)**2)))\n",
    "\n",
    "def Te_max(T):\n",
    "    return 2*m_e*((gamma(T)**2) - 1)/(1 + 2*(gamma(T))*(m_e/m_p) + (m_e/m_p)**2)\n",
    "\n",
    "def plot(n_e, I, titre):\n",
    "    x = np.linspace(70,250,3000)\n",
    "    fct = 2*pi*(r_e**2)*m_e*n_e*(1/(beta(x)**2))*(np.log(2*m_e*(beta(x)**2)*(gamma(x)**2)*(Te_max(x))/(I**2)) -2*(beta(x)**2))\n",
    "    plt.figure(figsize=(16,8))\n",
    "    plt.plot(x, fct, 'r-', label=\"Pouvoir d'arrêt collisionnel électronique\")\n",
    "    plt.xscale(\"log\")\n",
    "    plt.xlabel(\"Énergie cinétique [MeV]\")\n",
    "    plt.ylabel(r\"Pouvoir d'arrêt collisionnel [MeV$\\,cm^2$/g]\")\n",
    "    plt.legend()\n",
    "    plt.title(titre)\n",
    "    plt.show()\n",
    "\n",
    "plot(ne_os, I_os, \"Vient-moi dans face\")\n",
    "plot(ne_eau, I_eau, \"Vient-moi de l'eau dans face\")"
   ]
  },
  {
   "cell_type": "markdown",
   "metadata": {},
   "source": [
    "## Question 3\n",
    "\n",
    "On doit s'assurer de l'homogénéité dimensionnelle dans l'équation de la porté dans l'approximation CSDA:\n",
    "$$\\begin{align*}\n",
    "    R_{CSDA} &= \\int_0^{T_i} \\frac{\\text{d}T'}{\\frac{S_{col}}{\\rho}}\\\\\n",
    "    R_{CSDA}\\left[ \\text{g}/\\text{cm}^2 \\right] &= \\int_0^{T_i} \\frac{\\text{d}T'\\left[ \\text{MeV} \\right]}{\\frac{S_{col}}{\\rho}\\left[\\text{MeV}/\\text{g}/\\text{cm}^2\\right]}\\\\\n",
    "    R_{CSDA}\\left[ \\text{g}/\\text{cm}^2 \\right] &= \\int_0^{T_i} \\frac{\\text{d}T'}{\\frac{S_{col}}{\\rho}}\\left[\\text{g}/\\text{cm}^2 \\right]\\\\\n",
    "\\end{align*}\n",
    "$$\n",
    "\n",
    "Qui est bien ce qu'on devait vérifier."
   ]
  },
  {
   "cell_type": "markdown",
   "metadata": {},
   "source": [
    "## Question 4\n",
    "\n",
    "Dans notre cas, puisqu'on étudie le pouvoir d'arrêt collisionnel d'un proton qui est ralenti par les électrons dans de la matière, on sait que l'on étudie le pouvoir d'arrêt collisionnel électronique.\n",
    "\n",
    "On peut donc récupérer les données du PSTAR pour le pouvoir d'arrêt collisionel du proton dans l'eau liquide puis dans l'os cortical, et comparer, dans chacun, le pouvoir d'arrêt collisionel électronique avec le pouvoir d'arrêt total sur une plage de 70 à 250 MeV.\n",
    "\n",
    "On comparera le tout graphiquement avec matplotlib."
   ]
  },
  {
   "cell_type": "code",
   "execution_count": null,
   "metadata": {},
   "outputs": [],
   "source": [
    "def plot_S_col_PSTAR(nom_de_fichier, titre):\n",
    "    fichier = np.genfromtxt(nom_de_fichier, skip_header=8, skip_footer=1)\n",
    "    plt.figure(figsize=(16,8))\n",
    "    plt.plot(fichier[:,0], fichier[:, 1], 'r-', label=\"Pouvoir d'arrêt collisionnel électronique\")\n",
    "    plt.plot(fichier[:,0], fichier[:, 2], 'b-.', label=\"Pouvoir d'arrêt collisionnel électronique\")\n",
    "    plt.xlabel(\"Énergie cinétique [MeV]\")\n",
    "    plt.ylabel(r\"Pouvoir d'arrêt collisionnel [MeV$\\,cm^2$/g]\")\n",
    "    plt.legend()\n",
    "    plt.title(titre)\n",
    "    plt.show()\n",
    "    \n",
    "plot_S_col_PSTAR(\"S_col_PSTAR_70-250_eau.txt\", \"Pouvoirs d'arrêt collisionnaux électronique et total pour l'eau liquide\")\n",
    "plot_S_col_PSTAR(\"S_col_PSTAR_70-250_os.txt\", \"Pouvoirs d'arrêt collisionnaux électronique et total pour l'os cortical\")"
   ]
  },
  {
   "cell_type": "markdown",
   "metadata": {},
   "source": [
    "On voit très bien sur les deux graphiques que le pouvoir d'arrêt collisionnel total est très bien approximé par le pouvoir d'arrêt collisionnel électronique dans la plage d'énergie clinique."
   ]
  },
  {
   "cell_type": "markdown",
   "metadata": {},
   "source": [
    "## Question 5\n",
    "\n",
    "Il suffit d'insérer l'intégrale dans Wolfram Alpha pour voir que celle-ci n'est pas analytique. Il est donc nécessaire d'utiliser une méthode numérique puisqu'il n'y a pas d'autres moyens d'obtenir un résultat."
   ]
  },
  {
   "cell_type": "markdown",
   "metadata": {},
   "source": [
    "## Question 6\n",
    "\n",
    "* Écrire une méthode de résolution avec la méthode des trapèzes (easy)\n",
    "* La rendre adaptative (faire en sorte qu'elle ajuste elle-même le nombre de tranches (N)) (hard)\n",
    "\n",
    "Il sera premièrement extrêmement pertinent d'écrire nos fonctions sous forme _Python_:"
   ]
  },
  {
   "cell_type": "code",
   "execution_count": null,
   "metadata": {},
   "outputs": [],
   "source": [
    "def S_col(T, I, n_e):\n",
    "    return 2*pi*r_e**2*m_e*n_e*(1/beta(T)**2)*(np.log( (2*m_e*beta(T)**2*gamma(T)**2*Te_max(T))/(I)**2 )-2*beta(T)**2)\n",
    "\n",
    "def integrande_de_R(T, I, n_e, rho): # La fonction qu'on intégrera par rapport à T pour obtenir R_CSDA\n",
    "    return rho/S_col(T, I, n_e)\n",
    "\n",
    "\n",
    "def trapezes(f, a, b, N, precision):\n",
    "    x = np.linspace(a,b,N+1) # N+1 parce que Python commence à indexer à 0\n",
    "    y = f(x)\n",
    "    y_droit = y[1:] # points droits du trapèze\n",
    "    y_gauche = y[:-1] # points gauches du trapèze\n",
    "    h = (b - a)/N # Largeur des tranches\n",
    "    I = (h/2) * np.sum(y_droit + y_gauche) # Résultat\n",
    "    precision_actuelle = np.inf # On met la précision la plus haute possible pour pouvoir la descendre\n",
    "    while precision_actuelle >= precision:\n",
    "        integrale_precedente = I\n",
    "        N = 2*N # On double le nombre de tranches\n",
    "        h = (b - a)/N\n",
    "        x = np.linspace(a, b, N+1)[1::2] # On prend seulement les nombres impaires pour ne pas réévaluer le résultat précédent\n",
    "        I = I/2 + h * np.sum(f(x))\n",
    "        precision_actuelle = abs(integrale_precedente - I)/3\n",
    "    return I, precision_actuelle, N # I: Résultat, precision_actuelle: Précision du résultat, N: Nombre de tranches\n",
    "\n",
    "S_col_eau = lambda x: integrande_de_R(x, I_eau, ne_eau, rho_eau) # on redéfinit les fonctions S_col multivariées comme des fonctions à une variable\n",
    "S_col_os = lambda x: integrande_de_R(x, I_os, ne_os, rho_os)"
   ]
  },
  {
   "cell_type": "markdown",
   "metadata": {},
   "source": [
    "Après avoir redéfini les fonctions en fonctions à une variable. On pourra obtenir le résultat de la fonction trapèzes. "
   ]
  },
  {
   "cell_type": "code",
   "execution_count": null,
   "metadata": {},
   "outputs": [],
   "source": [
    "print(\"Résultat obtenu à l'aide de la méthode des trapèzes pour l'eau: \", trapezes(S_col_eau,3,100, 10, 1e-9))\n",
    "print(\"Résultat obtenu à l'aide de la méthode des trapèzes pour l'os cortical: \",trapezes(S_col_os,3,100, 10, 1e-9))"
   ]
  },
  {
   "cell_type": "markdown",
   "metadata": {},
   "source": [
    "## Question 7\n",
    "\n",
    "On commence par faire les définitions:\n",
    "$$\\begin{align*}\n",
    "    a &= 2m_e & b &= 1 + \\left( \\frac{m_e}{m_p} \\right)^2 & \n",
    "    d &= \\frac{m_e}{m_p}\n",
    "\\end{align*}$$\n",
    "\n",
    "Dans lesquelles on a changé le $c$ de l'énoncé pour ne pas le confondre avec la vitesse de la lumière qui est aussi utilisée plus haut dans l'énoncé. On peut donc définir:\n",
    "$$\\begin{align*}\n",
    "    T_e^{max} &= \\frac{a\\left( \\gamma^2 -1\\right)}{b+d\\gamma}\n",
    "\\end{align*}$$\n",
    "Et finalement:\n",
    "$$\\begin{align*}\n",
    "    U &= 2\\pi r_e^2 m_e c^2 n_e & k &= \\frac{a^2}{I^2}\n",
    "\\end{align*}$$\n",
    "Notre fonction $S_{col}$ devient donc:\n",
    "$$\\begin{align*}\n",
    "    S_{col} &= \\frac{U \\left(\\ln \\left[\\frac{a \\beta ^2 \\gamma ^2 \\left(\\gamma ^2-1\\right) k}{b+d \\gamma }\\right]-2 \\beta\n",
    "   ^2\\right)}{\\beta ^2}\\\\\n",
    "   &= \\frac{U \\left(\\ln {\\left[\\frac{a \\left(1-\\frac{1}{\\gamma ^2}\\right) \\gamma ^2 \\left(\\gamma ^2-1\\right) k}{b+d\n",
    "   \\gamma }\\right]}-2 \\left(1-\\frac{1}{\\gamma ^2}\\right)\\right)}{1-\\frac{1}{\\gamma ^2}}\\\\\n",
    "   &= \\frac{U \\left(\\gamma ^2 \\ln \\left[\\frac{a \\left(\\gamma ^2-1\\right)^2 k}{b+d \\gamma }\\right]-2 \\gamma\n",
    "   ^2+2\\right)}{\\gamma ^2-1}\n",
    "\\end{align*}$$\n",
    "Il sera plus simple d'évaluer premièrement la dérivée par rapport à gamma et ensuite trouver la dérivée de $S_{col}$ par rapport à $T$ avec:\n",
    "$$\\begin{align*}\n",
    "    \\frac{\\text{d}S_{col}}{\\text{d} T} &= \\frac{\\text{d}S_{col}}{\\text{d}\\gamma} \\frac{\\text{d}\\gamma}{\\text{d}T}\n",
    "\\end{align*}$$\n",
    "Après une quantité incroyable de dérivations de produits, on obtient:\n",
    "$$\n",
    "\\begin{align*}\n",
    "    \\frac{\\text{d}S_{col}}{\\text{d}\\gamma} &= \\frac{U \\left(\\frac{\\gamma^2 (\\gamma d+b) \\left(\\frac{4 \\gamma\n",
    "   \\left(\\gamma^2-1\\right) a k}{\\gamma d+b}-\\frac{\\left(\\gamma^2-1\\right)^2 a d\n",
    "   k}{(\\gamma d+b)^2}\\right)}{\\left(\\gamma^2-1\\right)^2 a k}+2 \\gamma \\ln\n",
    "   \\left[\\frac{\\left(\\gamma^2-1\\right)^2 a k}{\\gamma d+b}\\right]-4\n",
    "   \\gamma\\right)}{\\gamma^2-1}-\\frac{2 \\gamma U \\left(\\gamma^2 \\ln\n",
    "   \\left[\\frac{\\left(\\gamma^2-1\\right)^2 a k}{\\gamma d+b}\\right]-2\n",
    "   \\gamma^2+2\\right)}{\\left(\\gamma^2-1\\right)^2}\\\\\n",
    "   &= \\frac{\\gamma  U \\left(\\gamma  \\left(4 b \\gamma +3 d \\gamma ^2+d\\right)-2 (b+d \\gamma ) \\ln \\left[\\frac{a\n",
    "   \\left(\\gamma ^2-1\\right)^2 k}{b+d \\gamma }\\right]\\right)}{\\left(\\gamma ^2-1\\right)^2 (b+d \\gamma )}\n",
    "\\end{align*}\n",
    "$$\n",
    "Il suffira de multiplier le tout par:\n",
    "$$\n",
    "\\begin{align*}\n",
    "    \\frac{\\text{d}\\gamma}{\\text{d}T} &= \\frac{\\text{d}\\left(\\frac{T}{m_pc^2} + 1 \\right)}{\\text{d}T}\\\\\n",
    "    &= \\frac{1}{m_p c^2}\n",
    "\\end{align*}\n",
    "$$\n",
    "Puisque notre valeur de $m_p$ est en MeV, on a:\n",
    "$$\n",
    "\\begin{align*}\n",
    "    \\frac{\\text{d}\\gamma}{\\text{d}T} &= \\frac{1}{m_p}\n",
    "\\end{align*}\n",
    "$$\n",
    "On a donc que la dérivée est:\n",
    "$$\n",
    "\\begin{align}\n",
    "   \\frac{\\text{d}S_{col}}{\\text{d}T} &= \\frac{\\gamma  U \\left(\\gamma  \\left(4 b \\gamma +3 d \\gamma ^2+d\\right)-2 (b+d \\gamma ) \\ln \\left[\\frac{a\n",
    "   \\left(\\gamma ^2-1\\right)^2 k}{b+d \\gamma }\\right]\\right)}{m_p\\left(\\gamma ^2-1\\right)^2 (b+d \\gamma )}\n",
    "\\end{align}\n",
    "$$\n",
    "\n",
    "Sous forme _Python_, on aura:"
   ]
  },
  {
   "cell_type": "code",
   "execution_count": 154,
   "metadata": {},
   "outputs": [
    {
     "data": {
      "image/png": "[encoded data removed]",
      "text/plain": [
       "<Figure size 1152x576 with 1 Axes>"
      ]
     },
     "metadata": {
      "needs_background": "light"
     },
     "output_type": "display_data"
    },
    {
     "data": {
      "image/png": "[encoded data removed]",
      "text/plain": [
       "<Figure size 1152x576 with 1 Axes>"
      ]
     },
     "metadata": {
      "needs_background": "light"
     },
     "output_type": "display_data"
    }
   ],
   "source": [
    "a = 2*m_e\n",
    "b = 1 + (m_e/m_p)**2\n",
    "d = m_e/m_p\n",
    "\n",
    "def d_S_col(T, I, n_e): # Traduction en Python de l'expression de la dérivée de S_col\n",
    "    a = 2*m_e\n",
    "    b = 1 + (m_e/m_p)**2\n",
    "    d = m_e/m_p\n",
    "    U = 2*pi*r_e**2*m_e*n_e\n",
    "    k = a**2/I**2\n",
    "    return (gamma(T)*U*(gamma(T)*(4*b*gamma(T)+3*d*gamma(T)**2+d)-2*(b+d*gamma(T))*np.log((a*(gamma(T)**2-1)**2*k)/(b+d*gamma(T))) ))/(m_p*((gamma(T))**2-1)**2*(b+d*gamma(T)))\n",
    "\n",
    "linspace = np.linspace(1, 250, 5000)\n",
    "\n",
    "plt.figure(figsize=(16,8))\n",
    "plt.xscale(\"log\")\n",
    "plt.xlabel(\"Énergie cinétique des protons [MeV/cm]\")\n",
    "plt.ylabel(\"Dérivée du pouvoir d'arrêt collisionnel [1/cm]\")\n",
    "plt.plot(linspace, d_S_col(linspace, I_eau, ne_eau), \"k-\")\n",
    "\n",
    "plt.figure(figsize=(16,8))\n",
    "plt.xscale(\"log\")\n",
    "plt.xlabel(\"Énergie cinétique des protons [MeV/cm]\")\n",
    "plt.ylabel(\"Dérivée du pouvoir d'arrêt collisionnel [1/cm]\")\n",
    "plt.plot(linspace, d_S_col(linspace, I_os, ne_os), \"k-\")\n",
    "plt.show()"
   ]
  },
  {
   "cell_type": "markdown",
   "metadata": {},
   "source": [
    "## Question 8"
   ]
  },
  {
   "cell_type": "markdown",
   "metadata": {},
   "source": [
    "## Question 9"
   ]
  },
  {
   "cell_type": "markdown",
   "metadata": {},
   "source": [
    "## Question 10"
   ]
  },
  {
   "cell_type": "markdown",
   "metadata": {},
   "source": [
    "## Question 11"
   ]
  },
  {
   "cell_type": "markdown",
   "metadata": {},
   "source": [
    "## Question 12"
   ]
  },
  {
   "cell_type": "markdown",
   "metadata": {},
   "source": [
    "## Question 13"
   ]
  },
  {
   "cell_type": "markdown",
   "metadata": {},
   "source": [
    "## Question 14"
   ]
  }
 ],
 "metadata": {
  "kernelspec": {
   "display_name": "Python 3",
   "language": "python",
   "name": "python3"
  },
  "language_info": {
   "codemirror_mode": {
    "name": "ipython",
    "version": 3
   },
   "file_extension": ".py",
   "mimetype": "text/x-python",
   "name": "python",
   "nbconvert_exporter": "python",
   "pygments_lexer": "ipython3",
   "version": "3.7.1"
  }
 },
 "nbformat": 4,
 "nbformat_minor": 4
}
