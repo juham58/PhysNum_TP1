{
 "cells": [
  {
   "cell_type": "markdown",
   "metadata": {},
   "source": [
    "## Question 1\n",
    "\n",
    "On trouve sur Wikipédia ( https://en.wikipedia.org/wiki/Proton_therapy#Description ) que la gamme d'énergie est typiquement de 70 à 250 MeV. La plus grande énergie utilisée est donc de 250 MeV.\n",
    "\n",
    "On pourra exprimer $\\gamma$ en fonction de $T_e^{max}$ en isolant dans l'équation (2):\n",
    "$$\\begin{align*}\n",
    "    T_e^{max} &= \\frac{2 m_e c^2\\left( \\gamma^2-1 \\right)}{1+2\\gamma\\frac{m_e}{m_p}+\\left( \\frac{m_e}{m_p} \\right)^2}\\\\\n",
    "    2 m_e c^2\\left( \\gamma^2-1 \\right) &= T_e^{max}\\left( 1+2\\gamma\\frac{m_e}{m_p}+\\left( \\frac{m_e}{m_p} \\right)^2 \\right) \\\\\n",
    "    0 &= 2T_e^{max}\\gamma \\frac{m_e}{m_p} - 2m_ec^2\\gamma^2 + T_e^{max}\\left[ 1 + \\left(  \\frac{m_e}{m_p} \\right)^2 \\right] + 2m_e c^2\\\\\n",
    "\\end{align*}$$\n",
    "On a donc un polynôme de degré 2 dans lequel on pourra isoler $\\gamma$ à l'aide de la formule quadratique et prendre seulement la valeur positive:\n",
    "$$\\begin{align*}\n",
    "    \\gamma &= \\frac{m_e m_p T_e^{max} + \\sqrt{4c^4 m_e^2 m_p^4 + 2c^2 m_e^3mp^2 T_e^{max}+2c^2m_e m_p^4 T_e^{max} + m_e^2 m_p^2 T_e^{max\\,2}}}{2c^2m_e m_p^2}\n",
    "\\end{align*}$$"
   ]
  },
  {
   "cell_type": "code",
   "execution_count": null,
   "metadata": {},
   "outputs": [],
   "source": []
  },
  {
   "cell_type": "code",
   "execution_count": null,
   "metadata": {},
   "outputs": [],
   "source": []
  }
 ],
 "metadata": {
  "kernelspec": {
   "display_name": "Python 3",
   "language": "python",
   "name": "python3"
  },
  "language_info": {
   "codemirror_mode": {
    "name": "ipython",
    "version": 3
   },
   "file_extension": ".py",
   "mimetype": "text/x-python",
   "name": "python",
   "nbconvert_exporter": "python",
   "pygments_lexer": "ipython3",
   "version": "3.7.1"
  }
 },
 "nbformat": 4,
 "nbformat_minor": 2
}
