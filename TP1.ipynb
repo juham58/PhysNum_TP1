{
 "cells": [
  {
   "cell_type": "markdown",
   "metadata": {},
   "source": [
    "## Question 1\n",
    "\n",
    "Selon la recherche, la gamme d'énergie cinétique des protons en protonthérapie varie entre 30 MeV et 250 MeV. La plus grande énergie utilisée est 250 MeV. Pour exprimer $\\gamma (\\beta)$ et $\\gamma (T)$, nous devons faire de l'algèbre simple avec les équations de la dynamique des particules:\n",
    "\n",
    "$$ T = (\\gamma - 1)mc^2 \\\\ \\gamma(T) = \\frac{T}{mc^2} + 1$$\n",
    "\n",
    "Pour $\\gamma (\\beta)$;\n",
    "$$ \\gamma = \\sqrt{\\frac{1}{1 - \\beta^2}}$$\n",
    "\n"
   ]
  }
 ],
 "metadata": {
  "kernelspec": {
   "display_name": "Python 3",
   "language": "python",
   "name": "python3"
  },
  "language_info": {
   "codemirror_mode": {
    "name": "ipython",
    "version": 3
   },
   "file_extension": ".py",
   "mimetype": "text/x-python",
   "name": "python",
   "nbconvert_exporter": "python",
   "pygments_lexer": "ipython3",
   "version": "3.7.4"
  }
 },
 "nbformat": 4,
 "nbformat_minor": 4
}
